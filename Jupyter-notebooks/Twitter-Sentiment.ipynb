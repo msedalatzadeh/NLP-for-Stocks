{
  "nbformat": 4,
  "nbformat_minor": 0,
  "metadata": {
    "language_info": {
      "codemirror_mode": {
        "name": "ipython",
        "version": 3
      },
      "file_extension": ".py",
      "mimetype": "text/x-python",
      "name": "python",
      "nbconvert_exporter": "python",
      "pygments_lexer": "ipython3",
      "version": "3.6.10"
    },
    "orig_nbformat": 2,
    "kernelspec": {
      "name": "python3610jvsc74a57bd0aee8b7b246df8f9039afb4144a1f6fd8d2ca17a180786b69acc140d282b71a49",
      "display_name": "Python 3.6.10 64-bit"
    },
    "colab": {
      "name": "Twitter-Sentiment.ipynb",
      "provenance": []
    },
    "metadata": {
      "interpreter": {
        "hash": "aee8b7b246df8f9039afb4144a1f6fd8d2ca17a180786b69acc140d282b71a49"
      }
    }
  },
  "cells": [
    {
      "cell_type": "markdown",
      "metadata": {
        "id": "3RULV76fbJkR"
      },
      "source": [
        "#Twitter Sentiment\n",
        "\n",
        "We start by analysing the sentiment from Tweets about US airline. We use Kaggle database for now. Let's start with importing the packages:"
      ]
    },
    {
      "cell_type": "code",
      "metadata": {
        "id": "Jv30K_U8bJkU"
      },
      "source": [
        "import numpy as np \n",
        "import pandas as pd \n",
        "pd.set_option('display.max_colwidth', None)\n",
        "from time import time\n",
        "import re\n",
        "import string\n",
        "import os\n",
        "import emoji\n",
        "from pprint import pprint\n",
        "import collections\n",
        "\n",
        "import matplotlib.pyplot as plt\n",
        "import seaborn as sns\n",
        "sns.set(style=\"darkgrid\")\n",
        "sns.set(font_scale=1.3)\n",
        "\n",
        "from sklearn.base import BaseEstimator, TransformerMixin\n",
        "from sklearn.feature_extraction.text import CountVectorizer\n",
        "from sklearn.feature_extraction.text import TfidfVectorizer\n",
        "from sklearn.model_selection import GridSearchCV\n",
        "from sklearn.model_selection import train_test_split\n",
        "from sklearn.pipeline import Pipeline, FeatureUnion\n",
        "from sklearn.metrics import classification_report\n",
        "\n",
        "from sklearn.naive_bayes import MultinomialNB\n",
        "from sklearn.linear_model import LogisticRegression\n",
        "#from sklearn.externals import joblib\n",
        "\n",
        "import gensim\n",
        "\n",
        "from nltk.corpus import stopwords\n",
        "from nltk.stem import PorterStemmer\n",
        "from nltk.tokenize import word_tokenize\n",
        "\n",
        "import warnings\n",
        "warnings.filterwarnings('ignore')\n",
        "\n",
        "np.random.seed(37)\n",
        "KAGGLE_ENV = os.getcwd == '/kaggle/working'"
      ],
      "execution_count": 13,
      "outputs": []
    },
    {
      "cell_type": "markdown",
      "metadata": {
        "id": "9JMNGvX5bJkW"
      },
      "source": [
        "Download load the sentiment csv file from this [link](https://www.kaggle.com/crowdflower/twitter-airline-sentiment). Load them in a panda data frame as follows and use permutation to shuffle the data."
      ]
    }
  ]
}