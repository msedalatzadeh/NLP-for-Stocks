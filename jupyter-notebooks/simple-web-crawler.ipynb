{
 "cells": [
  {
   "cell_type": "markdown",
   "metadata": {},
   "source": [
    "# A simple web crawler"
   ]
  },
  {
   "cell_type": "markdown",
   "metadata": {},
   "source": [
    "### Loading dependency packages"
   ]
  },
  {
   "cell_type": "code",
   "execution_count": 1,
   "metadata": {},
   "outputs": [],
   "source": [
    "## scraper packages\n",
    "#!pip install scrapy\n",
    "import scrapy\n",
    "from scrapy.crawler import CrawlerProcess, CrawlerRunner\n",
    "from twisted.internet import reactor\n",
    "from scrapy.utils.log import configure_logging\n"
   ]
  },
  {
   "cell_type": "markdown",
   "metadata": {},
   "source": [
    "### Scraping\n",
    "\n",
    "We use the package `scrapy` for scraping data from web. "
   ]
  },
  {
   "cell_type": "code",
   "execution_count": 2,
   "metadata": {},
   "outputs": [],
   "source": [
    "class scrapper(scrapy.Spider):\n",
    "    name = 'google-finance'\n",
    "    # custom_settings = {\n",
    "    #     'USER_AGENT': 'Mozilla/5.0 (X11; Ubuntu; Linux x86_64; rv:47.0) Gecko/20100101 Firefox/47.0',\n",
    "    # }\n",
    "    start_urls = 'https://www.google.com/finance/quote/AAPL:NASDAQ'\n",
    "    def parse(self, response): \n",
    "        selector = 'div.YMlKec.fxKbKc::text'\n",
    "        price = response.css(selector).extract_first()\n",
    "        yield {\"the stock price is \": price}"
   ]
  },
  {
   "cell_type": "code",
   "execution_count": null,
   "metadata": {},
   "outputs": [],
   "source": [
    "process = CrawlerProcess(settings={\n",
    "    \"FEEDS\": {\n",
    "        \"items.json\": {\"format\": \"json\"},\n",
    "    },\n",
    "})\n",
    "\n",
    "process.crawl(scrapper)\n",
    "process.start() # the script will block here until the crawling is finished"
   ]
  },
  {
   "cell_type": "code",
   "execution_count": 3,
   "metadata": {},
   "outputs": [
    {
     "name": "stderr",
     "output_type": "stream",
     "text": [
      "INFO: Overridden settings:\n",
      "{}\n",
      "2022-02-20 22:13:44 [scrapy.extensions.telnet] INFO: Telnet Password: 26e0f18a8506c8cf\n",
      "2022-02-20 22:13:45 [scrapy.middleware] INFO: Enabled extensions:\n",
      "['scrapy.extensions.corestats.CoreStats',\n",
      " 'scrapy.extensions.telnet.TelnetConsole',\n",
      " 'scrapy.extensions.feedexport.FeedExporter',\n",
      " 'scrapy.extensions.logstats.LogStats']\n",
      "2022-02-20 22:13:45 [scrapy.middleware] INFO: Enabled downloader middlewares:\n",
      "['scrapy.downloadermiddlewares.httpauth.HttpAuthMiddleware',\n",
      " 'scrapy.downloadermiddlewares.downloadtimeout.DownloadTimeoutMiddleware',\n",
      " 'scrapy.downloadermiddlewares.defaultheaders.DefaultHeadersMiddleware',\n",
      " 'scrapy.downloadermiddlewares.useragent.UserAgentMiddleware',\n",
      " 'scrapy.downloadermiddlewares.retry.RetryMiddleware',\n",
      " 'scrapy.downloadermiddlewares.redirect.MetaRefreshMiddleware',\n",
      " 'scrapy.downloadermiddlewares.httpcompression.HttpCompressionMiddleware',\n",
      " 'scrapy.downloadermiddlewares.redirect.RedirectMiddleware',\n",
      " 'scrapy.downloadermiddlewares.cookies.CookiesMiddleware',\n",
      " 'scrapy.downloadermiddlewares.httpproxy.HttpProxyMiddleware',\n",
      " 'scrapy.downloadermiddlewares.stats.DownloaderStats']\n",
      "2022-02-20 22:13:45 [scrapy.middleware] INFO: Enabled spider middlewares:\n",
      "['scrapy.spidermiddlewares.httperror.HttpErrorMiddleware',\n",
      " 'scrapy.spidermiddlewares.offsite.OffsiteMiddleware',\n",
      " 'scrapy.spidermiddlewares.referer.RefererMiddleware',\n",
      " 'scrapy.spidermiddlewares.urllength.UrlLengthMiddleware',\n",
      " 'scrapy.spidermiddlewares.depth.DepthMiddleware']\n",
      "2022-02-20 22:13:45 [scrapy.middleware] INFO: Enabled item pipelines:\n",
      "[]\n",
      "2022-02-20 22:13:45 [scrapy.core.engine] INFO: Spider opened\n",
      "2022-02-20 22:13:45 [scrapy.extensions.logstats] INFO: Crawled 0 pages (at 0 pages/min), scraped 0 items (at 0 items/min)\n",
      "2022-02-20 22:13:45 [scrapy.extensions.telnet] INFO: Telnet console listening on 127.0.0.1:6023\n"
     ]
    },
    {
     "data": {
      "text/plain": [
       "<Deferred at 0x1ab599c5358>"
      ]
     },
     "execution_count": 3,
     "metadata": {},
     "output_type": "execute_result"
    }
   ],
   "source": [
    "configure_logging({'LOG_FORMAT': '%(levelname)s: %(message)s'})\n",
    "\n",
    "runner = CrawlerRunner(settings={\n",
    "    \"FEEDS\": {\n",
    "        \"items.json\": {\"format\": \"json\"},\n",
    "    },\n",
    "})\n",
    "\n",
    "page = runner.crawl(scrapper)\n",
    "page.addBoth(lambda _: reactor.stop())\n"
   ]
  },
  {
   "cell_type": "code",
   "execution_count": 4,
   "metadata": {},
   "outputs": [
    {
     "name": "stderr",
     "output_type": "stream",
     "text": [
      "2022-02-20 22:13:53 [scrapy.core.engine] ERROR: Error while obtaining start requests\n",
      "Traceback (most recent call last):\n",
      "  File \"C:\\Users\\sajjad\\Anaconda3\\lib\\site-packages\\scrapy\\core\\engine.py\", line 129, in _next_request\n",
      "    request = next(slot.start_requests)\n",
      "  File \"C:\\Users\\sajjad\\Anaconda3\\lib\\site-packages\\scrapy\\spiders\\__init__.py\", line 77, in start_requests\n",
      "    yield Request(url, dont_filter=True)\n",
      "  File \"C:\\Users\\sajjad\\Anaconda3\\lib\\site-packages\\scrapy\\http\\request\\__init__.py\", line 25, in __init__\n",
      "    self._set_url(url)\n",
      "  File \"C:\\Users\\sajjad\\Anaconda3\\lib\\site-packages\\scrapy\\http\\request\\__init__.py\", line 73, in _set_url\n",
      "    raise ValueError(f'Missing scheme in request url: {self._url}')\n",
      "ValueError: Missing scheme in request url: h\n",
      "2022-02-20 22:13:53 [scrapy.core.engine] INFO: Closing spider (finished)\n",
      "2022-02-20 22:13:53 [scrapy.statscollectors] INFO: Dumping Scrapy stats:\n",
      "{'elapsed_time_seconds': 7.209165,\n",
      " 'finish_reason': 'finished',\n",
      " 'finish_time': datetime.datetime(2022, 2, 21, 2, 13, 53, 157379),\n",
      " 'log_count/ERROR': 1,\n",
      " 'log_count/INFO': 10,\n",
      " 'start_time': datetime.datetime(2022, 2, 21, 2, 13, 45, 948214)}\n",
      "2022-02-20 22:13:53 [scrapy.core.engine] INFO: Spider closed (finished)\n"
     ]
    }
   ],
   "source": [
    "reactor.run()"
   ]
  }
 ],
 "metadata": {
  "interpreter": {
   "hash": "a0c48e2bddb07972c5947abb8e7c3bc6b78fe2c14f866bbaa314f904d72cdae0"
  },
  "kernelspec": {
   "display_name": "Python 3.6.5 64-bit ('base': conda)",
   "language": "python",
   "name": "python3"
  },
  "language_info": {
   "codemirror_mode": {
    "name": "ipython",
    "version": 3
   },
   "file_extension": ".py",
   "mimetype": "text/x-python",
   "name": "python",
   "nbconvert_exporter": "python",
   "pygments_lexer": "ipython3",
   "version": "3.6.5"
  },
  "orig_nbformat": 4
 },
 "nbformat": 4,
 "nbformat_minor": 2
}
